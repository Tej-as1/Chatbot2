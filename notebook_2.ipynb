{
  "nbformat": 4,
  "nbformat_minor": 0,
  "metadata": {
    "colab": {
      "provenance": []
    },
    "kernelspec": {
      "name": "python3",
      "display_name": "Python 3"
    },
    "language_info": {
      "name": "python"
    }
  },
  "cells": [
    {
      "cell_type": "code",
      "source": [
        "!pip install textblob\n"
      ],
      "metadata": {
        "colab": {
          "base_uri": "https://localhost:8080/"
        },
        "id": "ltpyPYIG_MgQ",
        "outputId": "9a5f207f-94d0-4af1-b2cb-30b88877f6fe"
      },
      "execution_count": 29,
      "outputs": [
        {
          "output_type": "stream",
          "name": "stdout",
          "text": [
            "Requirement already satisfied: textblob in /usr/local/lib/python3.10/dist-packages (0.17.1)\n",
            "Requirement already satisfied: nltk>=3.1 in /usr/local/lib/python3.10/dist-packages (from textblob) (3.8.1)\n",
            "Requirement already satisfied: click in /usr/local/lib/python3.10/dist-packages (from nltk>=3.1->textblob) (8.1.7)\n",
            "Requirement already satisfied: joblib in /usr/local/lib/python3.10/dist-packages (from nltk>=3.1->textblob) (1.3.2)\n",
            "Requirement already satisfied: regex>=2021.8.3 in /usr/local/lib/python3.10/dist-packages (from nltk>=3.1->textblob) (2023.6.3)\n",
            "Requirement already satisfied: tqdm in /usr/local/lib/python3.10/dist-packages (from nltk>=3.1->textblob) (4.66.1)\n"
          ]
        }
      ]
    },
    {
      "cell_type": "code",
      "source": [
        "import random\n",
        "from textblob import TextBlob\n",
        "\n",
        "class AdmissionChatbot:\n",
        "    def __init__(class_self):\n",
        "        class_self.previous_context = {}\n",
        "\n",
        "    def greet(class_self):\n",
        "        return \"Hello! Welcome to the Admission Q&A Chatbot. How can I assist you today?\"\n",
        "\n",
        "    #Detecting sentiment of the user\n",
        "    def sentiment_analysis(class_self, user_input):\n",
        "        analysis = TextBlob(user_input)\n",
        "        sentiment = analysis.sentiment.polarity\n",
        "        if sentiment > 0:\n",
        "            return \"You seem positive! Always be positive!\"\n",
        "        elif sentiment < 0:\n",
        "            return \"You seem negative. Is there anything bothering you?\"\n",
        "        else:\n",
        "            return \"Your sentiment is neutral.\"\n",
        "\n",
        "    #Example response to admission procedure doubt\n",
        "    def admission_procedures(class_self):\n",
        "        return [\"The admission procedures involve submitting an application, providing transcripts, test scores, and recommendation letters.\"]\n",
        "\n",
        "    #Example response to admission requirement doubt\n",
        "    def admission_requirements(class_self):\n",
        "        return [\"The admission requirements typically include academic transcripts, standardized test scores, recommendation letters, and a personal statement.\"]\n",
        "\n",
        "    #Example response to admission deadline doubt\n",
        "    def admission_deadlines(class_self):\n",
        "        return [\"Admission deadlines vary by college and program. It's important to check the specific deadlines for the colleges you're interested in.\"]\n",
        "\n",
        "    #Example response to GPA related doubt\n",
        "    def apply_with_gpa(class_self):\n",
        "        return [\"Your GPA is an important factor in the admission process. It's best to check the minimum GPA requirements of the colleges you're applying to.\"]\n",
        "\n",
        "    #Example response to major doubt\n",
        "    def available_majors(class_self):\n",
        "        return [\"Colleges offer a variety of majors ranging from engineering to liberal arts. You can explore the majors offered by specific colleges on their websites.\"]\n",
        "\n",
        "    #Some recommendations based on the college and major\n",
        "    def personalized_recommendations(class_self, user_profile):\n",
        "        recommended_colleges = [\"MIT\", \"Stanford University\", \"Imperial College\"]\n",
        "        recommended_majors = [\"Computer Science\", \"Engineering\", \"Psychology\"]\n",
        "        return f\"Based on your profile, here are some personalized recommendations: Colleges - {', '.join(recommended_colleges)}, Majors - {', '.join(recommended_majors)}\"\n",
        "\n",
        "    def farewell(class_self):\n",
        "        return \"Thank you for using the Admission Q&A Chatbot. Good luck with your college applications!\"\n",
        "\n",
        "    def handle_error(class_self):\n",
        "        return \"I'm sorry, I couldn't understand your question. Could you please rephrase it or ask something else?\"\n",
        "\n",
        "    def chat(class_self):\n",
        "        print(class_self.greet())\n",
        "        print(\"Please provide some details about yourclass_self to receive personalized recommendations.\")\n",
        "        academic_background = input(\"Academic Background (e.g., High School, College): \")\n",
        "        interests = input(\"Interests (comma-separated, e.g., Computer Science, Engineering): \").split(\", \")\n",
        "        location = input(\"Location (e.g., City X): \")\n",
        "\n",
        "        user_profile = {\n",
        "            \"academic_background\": academic_background,\n",
        "            \"interests\": interests,\n",
        "            \"location\": location\n",
        "        }\n",
        "\n",
        "        # Provide personalized recommendations\n",
        "        recommendations = class_self.personalized_recommendations(user_profile)\n",
        "        print(\"Chatbot:\", recommendations)\n",
        "        while True:\n",
        "            user_input = input(\"You: \")\n",
        "            if user_input.lower() in ['bye','exit','quit']:\n",
        "                print(class_self.farewell())\n",
        "                break\n",
        "            #To provide answers to similar questions, checking only the starting part of the questions.\n",
        "            #For eg.\n",
        "            #Q1. what are the admission procedures and the methodologies to apply for this college?\n",
        "            #Q2. what are the admission procedures for a college?\n",
        "            # Both questions are different but have a similar answer\n",
        "            elif user_input.lower().startswith('what are the admission procedures'):\n",
        "                print(\"Chatbot:\", random.choice(class_self.admission_procedures()))\n",
        "            elif user_input.lower().startswith('what are the admission requirements'):\n",
        "                print(\"Chatbot:\", random.choice(class_self.admission_requirements()))\n",
        "            elif user_input.lower().startswith('what are the admission deadlines'):\n",
        "                print(\"Chatbot:\", random.choice(class_self.admission_deadlines()))\n",
        "            elif user_input.lower().startswith('can i apply with my'):\n",
        "                print(\"Chatbot:\", random.choice(class_self.apply_with_gpa()))\n",
        "            elif user_input.lower().startswith('what majors are'):\n",
        "                print(\"Chatbot:\", random.choice(class_self.available_majors()))\n",
        "            else:\n",
        "                print(\"Chatbot:\", class_self.handle_error())\n",
        "                class_self.previous_context[user_input] = \"Chatbot: \" + class_self.handle_error()"
      ],
      "metadata": {
        "id": "6ifD_YFMA6gr"
      },
      "execution_count": 39,
      "outputs": []
    },
    {
      "cell_type": "code",
      "source": [
        "if __name__ == \"__main__\":\n",
        "    admission_chatbot = AdmissionChatbot()\n",
        "    admission_chatbot.chat()"
      ],
      "metadata": {
        "id": "MU5Pp5TLGTBk",
        "colab": {
          "base_uri": "https://localhost:8080/"
        },
        "outputId": "c8aa4cdf-3681-4fe4-b173-7e0cd5652564"
      },
      "execution_count": 40,
      "outputs": [
        {
          "output_type": "stream",
          "name": "stdout",
          "text": [
            "Hello! Welcome to the Admission Q&A Chatbot. How can I assist you today?\n",
            "Please provide some details about yourclass_self to receive personalized recommendations.\n",
            "Academic Background (e.g., High School, College): College\n",
            "Interests (comma-separated, e.g., Computer Science, Engineering): Computer Science\n",
            "Location (e.g., City X): X\n",
            "Chatbot: Based on your profile, here are some personalized recommendations: Colleges - MIT, Stanford University, Imperial College, Majors - Computer Science, Engineering, Psychology\n",
            "You: what are the admission procedures and methods for a college admission?\n",
            "Chatbot: The admission procedures involve submitting an application, providing transcripts, test scores, and recommendation letters.\n",
            "You: what majors are generally available in colleges?\n",
            "Chatbot: Colleges offer a variety of majors ranging from engineering to liberal arts. You can explore the majors offered by specific colleges on their websites.\n",
            "You: can i apply with my cgpa of 8.7?\n",
            "Chatbot: Your GPA is an important factor in the admission process. It's best to check the minimum GPA requirements of the colleges you're applying to.\n",
            "You: bye\n",
            "Thank you for using the Admission Q&A Chatbot. Good luck with your college applications!\n"
          ]
        }
      ]
    },
    {
      "cell_type": "code",
      "source": [],
      "metadata": {
        "id": "C86f3KUkEUnw"
      },
      "execution_count": null,
      "outputs": []
    }
  ]
}